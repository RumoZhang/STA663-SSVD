{
 "cells": [
  {
   "cell_type": "markdown",
   "metadata": {},
   "source": [
    "# Implementation of SSVD biclustering algorithm"
   ]
  },
  {
   "cell_type": "markdown",
   "metadata": {},
   "source": [
    "Rumo Zhang, Xige Huang"
   ]
  },
  {
   "cell_type": "markdown",
   "metadata": {},
   "source": [
    "## Abstract"
   ]
  },
  {
   "cell_type": "markdown",
   "metadata": {},
   "source": [
    "Sparse singular value decomposition (SSVD) is proposed as a SVD-based tool for biclustering or identifying interpretable row-column associations of the data matrices, especially for real-world data with high-dimension and low sample size (DHLSS). Specifically, SSVD provides low-rank, checkerboard structuered matrix approximation to the data through obtaining the sparse (contaning many zero entries) left- and right-singular vectors.  The iterative SSVD algorithm utilizes the connection between SSVD and penalized regression using BIC. Optimization of the algorithm is conducted with the use of (**?????**). A simulated data set, the lung cancer data introduced in the research paper, and a data set of (**?????**) are used to illustrate the performance of the SSVD algorithm, along with comparative analysis with competing algorithms of (**?????**)."
   ]
  },
  {
   "cell_type": "markdown",
   "metadata": {},
   "source": [
    "**Key words:  Biclustering; SSVD; Adaptive Lasso penalty; ???(need at least one more)** "
   ]
  },
  {
   "cell_type": "markdown",
   "metadata": {},
   "source": [
    "## Background"
   ]
  },
  {
   "cell_type": "markdown",
   "metadata": {},
   "source": [
    "This project is a python realization of the algorithm proposed in _Biclustering via Sparse Singular Value Decomposition_ by Lee, Shen, Huang, and Marron.\n",
    "\n",
    "High-dimension and low sample size (DHLSS) data proposed a lot of challenge in statistical prediction in many fields. Among some of the useful tools when dealing with high-dimensional data, biclustring methods refers to a collection of unsupervised learning tools that simultaneously clusters the sets of samples (rows) and sets of variables (columns) in the data matrices to identify groups that are significantly associated. Lee, Shen, Huang, and Marron introduced SSVD as a new tool for biclustering. SSVD biclustering can be applied to fields include text mining, gene expression analysis, and numerous other biomedical analyzing tasks to detect important associations among the clusters.\n",
    "\n",
    "In their research paper, Lee, Shen, Huang, and Marron utilizes special structure of SSVD to make the algorithm more efficient than the prior ones. Specifically, they suggest that selecting the penalty parameters in the adaptive Lasso regressions is equivalent to selecting the degrees of sparsity in the singular vectors; the sparsity implies selection of relevant rows and columns when forming a low rank approximation to the data matrix. \n",
    "\n",
    "In addition, SSVD can be more rigorous as a biclustering tool comparing to others such as SVD and PCA. (**?????**) As shown later in the comparative analysis section, SSVD has obvious advantages of detecting sparse structure when compared with SVD, and imposing sparse structure in both the penalized and unpenalized direction when comparing to the PCA methods."
   ]
  },
  {
   "cell_type": "markdown",
   "metadata": {},
   "source": [
    "## The Algorithm"
   ]
  },
  {
   "cell_type": "markdown",
   "metadata": {},
   "source": [
    "### Overview"
   ]
  },
  {
   "cell_type": "markdown",
   "metadata": {},
   "source": [
    "Let X be a n × d data matrix whose rows represent observations and columns represent variables. With the SVD decomposition of X, the first $K \\leq r$ rank-one matrices in the summation is the closest rank-K approximation to X:\n",
    "\n",
    "$$\n",
    "\\mathbf{X} = \\mathbf{U D V}^{T}=\\sum_{k=1}^{r} s_{k} \\boldsymbol{u}_{k} \\boldsymbol{v}_{k}^{T}, \\quad \\mathbf{X}^{(K)} \\equiv \\sum_{k=1}^{K} s_{k} \\boldsymbol{u}_{k} \\boldsymbol{v}_{k}^{T}\n",
    "$$\n",
    "\n",
    "The proposed SSVD algorithm is based on the idea above, but with sparsity-inducing penalities to make $u_k$ and $v_k$ sparse. The rank-one matrix $s_k u_k v_k^T$, with a checkerboard structure, is referred to as the first SSVD layer, and the sum of the first m layers provides the best sparse rank-m approximation to the data matrices. For the main purpose of this project and simplification, we will only describe the algorithm to compute SSVD, more details of the connection with variable selection for penalized regressions are presented in the original paper."
   ]
  },
  {
   "cell_type": "markdown",
   "metadata": {},
   "source": [
    "### The iterative algorithm to compute SSVD layer"
   ]
  },
  {
   "cell_type": "markdown",
   "metadata": {},
   "source": [
    "**Step 0**: Choose non-negative parameters $\\gamma_1$ and $\\gamma_2$"
   ]
  },
  {
   "cell_type": "markdown",
   "metadata": {},
   "source": [
    "**Step 1**: Obtain the SVD composition of the n x d data matrix $\\mathbf{X}$, denote by \n",
    "$\n",
    "\\mathbf{X} = \\mathbf{u} s \\mathbf{v}^T\n",
    "$"
   ]
  },
  {
   "cell_type": "markdown",
   "metadata": {},
   "source": [
    "**Step 2**: \n",
    "1. Calculate $\\boldsymbol{w}_{2}$ by\n",
    "$$\n",
    "\\boldsymbol{w}_{2} \\equiv\\left(w_{2,1}, \\ldots, w_{2, d}\\right)^{T}=|\\hat{\\tilde{v}}|^{-\\gamma_{2}} = |\\mathbf{X}^T u|^{-\\gamma_{2}}\n",
    "$$\n",
    "Obtain $\\hat{\\sigma^2}$, the OLS estimate of the error variance from the penalized regression\n",
    "$$\n",
    "\\left\\|\\mathbf{X}-\\boldsymbol{u} \\tilde{\\boldsymbol{v}}^{T}\\right\\|_{F}^{2}+ s \\sum_{j=1}^{d} w_{2, j}\\left|v_{j}\\right|\n",
    "$$\n",
    "Calculate $\\lambda_v$ from $\\lambda_v = \\underset{\\lambda_v}{argmin}\\operatorname{BIC}\\left(\\lambda_{v}\\right)$, where\n",
    "$$\\operatorname{BIC}\\left(\\lambda_{v}\\right)=\\frac{\\|\\mathbf{Y}-\\hat{\\mathbf{Y}}\\|^{2}}{n d \\cdot \\hat{\\sigma}^{2}}+\\frac{\\log (n d)}{n d} \\hat{d f}\\left(\\lambda_{v}\\right)\n",
    "$$\n",
    "2. Set $\\tilde{v}_{j}=\\operatorname{sign}\\left\\{\\left(\\mathbf{X}^{T} \\boldsymbol{u}\\right)_{j}\\right\\}\\left(\\left|\\left(\\mathbf{X}^{T} \\boldsymbol{u}\\right)_{j}\\right|-\\lambda_{v} w_{2, j} /2 \\right)_+$, with $\\lambda_v$ from step2.1, $j = 1, \\dots, d$\n",
    "3. Let $\\tilde{v} = \\left(\\tilde{v}_{1}, \\ldots, \\tilde{v}_{d}\\right)^{T}$, and $\\boldsymbol{v}_{\\text {new }}=\\tilde{\\boldsymbol{v}} / \\|\\tilde{\\boldsymbol{v}}\\|$\n",
    "\n",
    "Note:\n",
    "- $\\mathbf{Y}=\\left(\\boldsymbol{x}_{1}^{T}, \\ldots, \\boldsymbol{x}_{d}^{T}\\right)^{T} \\in R^{n d}$ with $x_j$ being the jth column of $\\mathbf{X}$\n",
    "- $\\hat{\\tilde{v}}$ is the OLS estimate of $\\tilde{v}$"
   ]
  },
  {
   "cell_type": "markdown",
   "metadata": {},
   "source": [
    "**Step 3**: \n",
    "1. Calculate $\\boldsymbol{w}_{1}$ by\n",
    "$$\n",
    "\\boldsymbol{w}_{1} \\equiv\\left(w_{1,1}, \\ldots, w_{1, n}\\right)^{T}=|\\hat{\\tilde{u}}|^{-\\gamma_{1}} = |\\mathbf{X}v|^{-\\gamma_{2}}\n",
    "$$\n",
    "Obtain $\\hat{\\sigma^2}$, the OLS estimate of the error variance from the penalized regression\n",
    "$$\n",
    "\\left\\|\\mathbf{X}-\\tilde{\\boldsymbol{u}} \\boldsymbol{v}^{T}\\right\\|_{F}^{2}+ s \\sum_{i=1}^{n} w_{1, i}\\left|u_{i}\\right|\n",
    "$$\n",
    "Calculate $\\lambda_u$ from $\\lambda_u = \\underset{\\lambda_u}{argmin}\\operatorname{BIC}\\left(\\lambda_{u}\\right)$, where\n",
    "$$\\operatorname{BIC}\\left(\\lambda_{u}\\right)=\\frac{\\|\\mathbf{Z}-\\hat{\\mathbf{Z}}\\|^{2}}{n d \\cdot \\hat{\\sigma}^{2}}+\\frac{\\log (n d)}{n d} \\hat{d f}\\left(\\lambda_{u}\\right)\n",
    "$$\n",
    "2. Set $\\tilde{u}_{i}=\\operatorname{sign}\\left\\{\\left(\\mathbf{X} \\boldsymbol{v}_{\\text{new}}\\right)_{i}\\right\\}\\left(\\left|\\left(\\mathbf{X} \\boldsymbol{v}_{\\text{new}}\\right)_{j}\\right|-\\lambda_{v} w_{u, i} /2 \\right)_+$, with $\\lambda_u$ from step3.1, $i = 1, \\dots, n$\n",
    "3. Let $\\tilde{u} = \\left(\\tilde{u}_{1}, \\ldots, \\tilde{u}_{n}\\right)^{T}$, and $\\boldsymbol{u}_{\\text {new }}=\\tilde{\\boldsymbol{u}} / \\|\\tilde{\\boldsymbol{u}}\\|$\n",
    "\n",
    "Note:\n",
    "- $\\mathbf{Z}=\\left(\\boldsymbol{x}_{(1)}, \\ldots, \\boldsymbol{x}_{(n)}\\right)^{T} \\in R^{n d}$ with $x_i^T$ being the ith row of $\\mathbf{X}$\n",
    "- $\\hat{\\tilde{u}}$ is the OLS estimate of $\\tilde{u}$"
   ]
  },
  {
   "cell_type": "markdown",
   "metadata": {},
   "source": [
    "**Step 4**:\n",
    "Repeat step 2 and step 3 with $\\boldsymbol{u} = \\boldsymbol{u}_{\\text{new}}$, $\\boldsymbol{v} = \\boldsymbol{v}_{\\text{new}}$ until convergence"
   ]
  },
  {
   "cell_type": "markdown",
   "metadata": {},
   "source": [
    "**Step 5**: Obtain the $\\boldsymbol{u}$, $\\boldsymbol{v}$, s = $\\boldsymbol{u}^T\\mathbf{X}\\boldsymbol{v}$ at convergence"
   ]
  },
  {
   "cell_type": "markdown",
   "metadata": {},
   "source": [
    "Subsequent layers can be extracted sequentially from the residual matrices after removing the preceding layers.\n",
    "For our package, we choose to use $\\gamma_1 = \\gamma_2 = 2$ suggested by Zou (2006) as an default for the function `SSVD_single`."
   ]
  },
  {
   "cell_type": "markdown",
   "metadata": {},
   "source": [
    "## Optimization of the algorithm"
   ]
  },
  {
   "cell_type": "markdown",
   "metadata": {},
   "source": [
    "## Application to simulated data sets"
   ]
  },
  {
   "cell_type": "code",
   "execution_count": 1,
   "metadata": {},
   "outputs": [],
   "source": [
    "import scipy.linalg as la\n",
    "import numpy as np\n",
    "import seaborn as sns\n",
    "import pandas as pd\n",
    "from sklearn.decomposition import SparsePCA\n",
    "from SSVD.functions import SSVD_single\n",
    "from SSVD.functions import SSVD_multi_layer"
   ]
  },
  {
   "cell_type": "markdown",
   "metadata": {},
   "source": [
    "#### Rank 1 simulation"
   ]
  },
  {
   "cell_type": "markdown",
   "metadata": {},
   "source": [
    "In order to closely examine the performance of our algorithm, we decided to carry out simulation studies. In this section, we will start by repeating a rank-1 simulation study suggested by Lee et al. (2010). In this designed simulation dataset, the target matrix $X$ has the dimension of $100 \\times 50$. In a rank-1 approximation by our SSVD algorithm, the corresponding vectors $u$ and $v$ are designed to have 25 and 16 nonzero entries, respectively. The scaling eigenvalue associated with this case is set to be $50$. The final dataset also has error terms from a standard normal distribution added. And the entire data generating process is repeated 100 times. \n",
    "\n",
    "Ideally, we expect our algorithm to correctly detect the zero and nonzero entries from the original dataset. In this case, we collected the following statistics to evaluate its performance: number of zero entries, number of correctly specified zero entries and number of correctly specified nonzero entries. "
   ]
  },
  {
   "cell_type": "code",
   "execution_count": 2,
   "metadata": {},
   "outputs": [],
   "source": [
    "def rank1_approx(M = 100):\n",
    "    \"\"\"Carry out a rank-1 approximation simulation study\"\"\"\n",
    "    \n",
    "    u_tilde = np.concatenate((np.arange(3, 11)[::-1],\n",
    "                          np.ones(17) * 2,\n",
    "                          np.zeros(75)))\n",
    "    u = u_tilde / np.linalg.norm(u_tilde)\n",
    "    v_tilde = np.concatenate((np.array([10, -10, 8, -8, 5, -5]), \n",
    "                              np.ones(5) * 3,\n",
    "                              np.ones(5) * (-3), \n",
    "                              np.zeros(34)))\n",
    "    v = v_tilde / np.linalg.norm(v_tilde)\n",
    "    s = 50\n",
    "    x_sim_rank1 = s * u.reshape((-1, 1)) @ v.reshape((1, -1)) \n",
    "    \n",
    "    v_nonzero_ind = np.where(v != 0)\n",
    "    v_zero_ind = np.where(v == 0)\n",
    "    u_nonzero_ind = np.where(u != 0)\n",
    "    u_zero_ind = np.where(u == 0)\n",
    "    \n",
    "    v_zeros = np.zeros(M)\n",
    "    v_true_zeros = np.zeros(M)\n",
    "    v_true_nonzeros = np.zeros(M)\n",
    "    \n",
    "    u_zeros = np.zeros(M)\n",
    "    u_true_zeros = np.zeros(M)\n",
    "    u_true_nonzeros = np.zeros(M)\n",
    "    \n",
    "    \n",
    "    for i in range(M):\n",
    "        noise = np.random.normal(size = (x_sim_rank1.shape))\n",
    "        u_appr, v_appr, iters = SSVD_single(x_sim_rank1 + noise)\n",
    "        v_zeros[i] = np.sum(v_appr == 0)\n",
    "        u_zeros[i] = np.sum(u_appr == 0)\n",
    "        v_true_zeros[i] = np.sum(v_appr[v_zero_ind] == 0)\n",
    "        u_true_zeros[i] = np.sum(u_appr[u_zero_ind] == 0)\n",
    "        v_true_nonzeros[i] = np.sum(v_appr[v_nonzero_ind] != 0)\n",
    "        u_true_nonzeros[i] = np.sum(u_appr[u_nonzero_ind] != 0)\n",
    "        \n",
    "    return np.array([v_zeros, v_true_zeros, v_true_nonzeros, u_zeros, u_true_zeros, u_true_nonzeros])\n"
   ]
  },
  {
   "cell_type": "code",
   "execution_count": 3,
   "metadata": {},
   "outputs": [],
   "source": [
    "result = rank1_approx()\n",
    "result = np.mean(result, axis = 1)"
   ]
  },
  {
   "cell_type": "code",
   "execution_count": 4,
   "metadata": {},
   "outputs": [
    {
     "name": "stdout",
     "output_type": "stream",
     "text": [
      "Average of correctly specified zero entries on u is 0.9979641693811074\n",
      "Average of correctly specified nonzero entries on u is 0.9940000000000001\n",
      "Average of correctly specified zero entries on v is 1.0\n",
      "Average of correctly specified nonzero entries on v is 1.0\n"
     ]
    }
   ],
   "source": [
    "print(\"Average of correctly specified zero entries on u is\", result[4] / result[3])\n",
    "print(\"Average of correctly specified nonzero entries on u is\", result[5] / 25)\n",
    "print(\"Average of correctly specified zero entries on v is\", result[1] / result[0])\n",
    "print(\"Average of correctly specified nonzero entries on v is\", result[2] / 16)"
   ]
  },
  {
   "cell_type": "markdown",
   "metadata": {},
   "source": [
    "As we can read from our result, the simulation study on our rank-1 approximation is fairly accurate, with the biclustering identification rate close to 100% on both vector $u$ and $v$. Comparing with the table in Lee et al. (2010), we can observe that results are close. "
   ]
  },
  {
   "cell_type": "markdown",
   "metadata": {},
   "source": [
    "#### Rank-3 simulation"
   ]
  },
  {
   "cell_type": "markdown",
   "metadata": {},
   "source": [
    "Continuing from the rank-1 approximation setup, we also want to generate a dataset with rank-3. In this simulation, we choose to use a dataset that is moderately sparse, and examine the performance of algorithm on each layer. "
   ]
  },
  {
   "cell_type": "code",
   "execution_count": 4,
   "metadata": {},
   "outputs": [
    {
     "data": {
      "text/html": [
       "<div>\n",
       "<style scoped>\n",
       "    .dataframe tbody tr th:only-of-type {\n",
       "        vertical-align: middle;\n",
       "    }\n",
       "\n",
       "    .dataframe tbody tr th {\n",
       "        vertical-align: top;\n",
       "    }\n",
       "\n",
       "    .dataframe thead th {\n",
       "        text-align: right;\n",
       "    }\n",
       "</style>\n",
       "<table border=\"1\" class=\"dataframe\">\n",
       "  <thead>\n",
       "    <tr style=\"text-align: right;\">\n",
       "      <th></th>\n",
       "      <th>0</th>\n",
       "      <th>1</th>\n",
       "      <th>2</th>\n",
       "      <th>3</th>\n",
       "      <th>4</th>\n",
       "      <th>5</th>\n",
       "      <th>6</th>\n",
       "      <th>7</th>\n",
       "      <th>8</th>\n",
       "      <th>9</th>\n",
       "      <th>10</th>\n",
       "      <th>11</th>\n",
       "      <th>12</th>\n",
       "      <th>13</th>\n",
       "      <th>14</th>\n",
       "      <th>15</th>\n",
       "      <th>16</th>\n",
       "      <th>17</th>\n",
       "      <th>18</th>\n",
       "      <th>19</th>\n",
       "    </tr>\n",
       "  </thead>\n",
       "  <tbody>\n",
       "    <tr>\n",
       "      <th>0</th>\n",
       "      <td>2</td>\n",
       "      <td>0</td>\n",
       "      <td>0</td>\n",
       "      <td>0</td>\n",
       "      <td>1</td>\n",
       "      <td>15</td>\n",
       "      <td>0</td>\n",
       "      <td>9</td>\n",
       "      <td>8</td>\n",
       "      <td>0</td>\n",
       "      <td>10</td>\n",
       "      <td>16</td>\n",
       "      <td>9</td>\n",
       "      <td>4</td>\n",
       "      <td>15</td>\n",
       "      <td>1</td>\n",
       "      <td>6</td>\n",
       "      <td>3</td>\n",
       "      <td>16</td>\n",
       "      <td>0</td>\n",
       "    </tr>\n",
       "    <tr>\n",
       "      <th>1</th>\n",
       "      <td>0</td>\n",
       "      <td>0</td>\n",
       "      <td>9</td>\n",
       "      <td>0</td>\n",
       "      <td>8</td>\n",
       "      <td>0</td>\n",
       "      <td>1</td>\n",
       "      <td>0</td>\n",
       "      <td>0</td>\n",
       "      <td>2</td>\n",
       "      <td>0</td>\n",
       "      <td>0</td>\n",
       "      <td>4</td>\n",
       "      <td>0</td>\n",
       "      <td>6</td>\n",
       "      <td>0</td>\n",
       "      <td>0</td>\n",
       "      <td>5</td>\n",
       "      <td>1</td>\n",
       "      <td>1</td>\n",
       "    </tr>\n",
       "    <tr>\n",
       "      <th>2</th>\n",
       "      <td>0</td>\n",
       "      <td>0</td>\n",
       "      <td>7</td>\n",
       "      <td>16</td>\n",
       "      <td>0</td>\n",
       "      <td>18</td>\n",
       "      <td>8</td>\n",
       "      <td>2</td>\n",
       "      <td>0</td>\n",
       "      <td>0</td>\n",
       "      <td>16</td>\n",
       "      <td>0</td>\n",
       "      <td>0</td>\n",
       "      <td>0</td>\n",
       "      <td>5</td>\n",
       "      <td>0</td>\n",
       "      <td>8</td>\n",
       "      <td>0</td>\n",
       "      <td>15</td>\n",
       "      <td>0</td>\n",
       "    </tr>\n",
       "    <tr>\n",
       "      <th>3</th>\n",
       "      <td>12</td>\n",
       "      <td>5</td>\n",
       "      <td>0</td>\n",
       "      <td>7</td>\n",
       "      <td>1</td>\n",
       "      <td>16</td>\n",
       "      <td>0</td>\n",
       "      <td>2</td>\n",
       "      <td>6</td>\n",
       "      <td>0</td>\n",
       "      <td>0</td>\n",
       "      <td>6</td>\n",
       "      <td>0</td>\n",
       "      <td>0</td>\n",
       "      <td>0</td>\n",
       "      <td>27</td>\n",
       "      <td>1</td>\n",
       "      <td>0</td>\n",
       "      <td>0</td>\n",
       "      <td>0</td>\n",
       "    </tr>\n",
       "    <tr>\n",
       "      <th>4</th>\n",
       "      <td>6</td>\n",
       "      <td>4</td>\n",
       "      <td>9</td>\n",
       "      <td>0</td>\n",
       "      <td>0</td>\n",
       "      <td>8</td>\n",
       "      <td>0</td>\n",
       "      <td>0</td>\n",
       "      <td>6</td>\n",
       "      <td>4</td>\n",
       "      <td>1</td>\n",
       "      <td>8</td>\n",
       "      <td>2</td>\n",
       "      <td>0</td>\n",
       "      <td>1</td>\n",
       "      <td>5</td>\n",
       "      <td>0</td>\n",
       "      <td>0</td>\n",
       "      <td>6</td>\n",
       "      <td>0</td>\n",
       "    </tr>\n",
       "  </tbody>\n",
       "</table>\n",
       "</div>"
      ],
      "text/plain": [
       "   0   1   2   3   4   5   6   7   8   9   10  11  12  13  14  15  16  17  18  \\\n",
       "0   2   0   0   0   1  15   0   9   8   0  10  16   9   4  15   1   6   3  16   \n",
       "1   0   0   9   0   8   0   1   0   0   2   0   0   4   0   6   0   0   5   1   \n",
       "2   0   0   7  16   0  18   8   2   0   0  16   0   0   0   5   0   8   0  15   \n",
       "3  12   5   0   7   1  16   0   2   6   0   0   6   0   0   0  27   1   0   0   \n",
       "4   6   4   9   0   0   8   0   0   6   4   1   8   2   0   1   5   0   0   6   \n",
       "\n",
       "   19  \n",
       "0   0  \n",
       "1   1  \n",
       "2   0  \n",
       "3   0  \n",
       "4   0  "
      ]
     },
     "execution_count": 4,
     "metadata": {},
     "output_type": "execute_result"
    }
   ],
   "source": [
    "A = np.random.poisson(1, (15,20)) * np.random.randint(0, 10, (15,20))\n",
    "pd.DataFrame(A).head()"
   ]
  },
  {
   "cell_type": "code",
   "execution_count": 5,
   "metadata": {},
   "outputs": [
    {
     "name": "stderr",
     "output_type": "stream",
     "text": [
      "/Users/huangxe/STA663-SSVD/SSVD/functions.py:30: RuntimeWarning: divide by zero encountered in power\n",
      "  omega_2 = np.abs(Xt_U) ** (-gamma2)\n",
      "/Users/huangxe/STA663-SSVD/SSVD/functions.py:40: RuntimeWarning: invalid value encountered in true_divide\n",
      "  term1 = Xt_U / abs(Xt_U)\n",
      "/Users/huangxe/STA663-SSVD/SSVD/functions.py:41: RuntimeWarning: invalid value encountered in multiply\n",
      "  term2 = abs(Xt_U) - l * omega_2 / 2\n",
      "/Users/huangxe/STA663-SSVD/SSVD/functions.py:42: RuntimeWarning: invalid value encountered in multiply\n",
      "  term2 *= term2 >= 0\n"
     ]
    },
    {
     "data": {
      "text/plain": [
       "(array([[-0.37348903,  0.        , -0.        ],\n",
       "        [-0.07533484,  0.        ,  0.        ],\n",
       "        [-0.29597316,  0.        , -0.        ],\n",
       "        [-0.19506973,  1.        , -0.        ],\n",
       "        [-0.14840065, -0.        , -0.        ],\n",
       "        [-0.13147207, -0.        ,  0.        ],\n",
       "        [-0.36891369,  0.        , -0.93408389],\n",
       "        [-0.17155527,  0.        ,  0.        ],\n",
       "        [-0.29388226, -0.        , -0.        ],\n",
       "        [-0.27304888, -0.        ,  0.35705363],\n",
       "        [-0.18169654, -0.        , -0.        ],\n",
       "        [-0.14257872,  0.        ,  0.        ],\n",
       "        [-0.38602404,  0.        ,  0.        ],\n",
       "        [-0.13909063, -0.        , -0.        ],\n",
       "        [-0.37645259,  0.        ,  0.        ]]),\n",
       " array([[-0.15878239, -0.        , -0.        ],\n",
       "        [-0.05616876, -0.        ,  0.        ],\n",
       "        [-0.07145373,  0.        ,  0.        ],\n",
       "        [-0.19249815, -0.        ,  0.        ],\n",
       "        [-0.08983538,  0.        , -0.57459756],\n",
       "        [-0.30549235,  0.36550358,  0.3901892 ],\n",
       "        [ 0.        ,  0.        ,  0.        ],\n",
       "        [-0.21085546,  0.        , -0.        ],\n",
       "        [-0.1412055 , -0.        , -0.        ],\n",
       "        [ 0.        ,  0.        ,  0.        ],\n",
       "        [-0.39032114,  0.        ,  0.        ],\n",
       "        [-0.30553899, -0.        ,  0.55657435],\n",
       "        [-0.18841981,  0.        ,  0.        ],\n",
       "        [-0.22362393,  0.        ,  0.        ],\n",
       "        [-0.39556453,  0.        ,  0.        ],\n",
       "        [-0.16198826,  0.93080993, -0.        ],\n",
       "        [-0.25213171,  0.        , -0.45586734],\n",
       "        [-0.07026022,  0.        ,  0.        ],\n",
       "        [-0.42572799,  0.        , -0.        ],\n",
       "        [ 0.        ,  0.        ,  0.        ]]))"
      ]
     },
     "execution_count": 5,
     "metadata": {},
     "output_type": "execute_result"
    }
   ],
   "source": [
    "SSVD_multi_layer(A, 3)"
   ]
  },
  {
   "cell_type": "markdown",
   "metadata": {},
   "source": [
    "As we can see from our result, when the target dataset is moderately sparse, the first layer of our SSVD algorithm does not perform biclustering. On the other hand, the second and the third layer have more zero entries and bicluster the dataset. "
   ]
  },
  {
   "cell_type": "markdown",
   "metadata": {},
   "source": [
    "## Applications to real-world data set"
   ]
  },
  {
   "cell_type": "markdown",
   "metadata": {},
   "source": [
    "### The lung cancer data"
   ]
  },
  {
   "cell_type": "markdown",
   "metadata": {},
   "source": [
    "After some simulation studies on our algorithm, we want to apply it to real datasets to check its performance. Firstly, we choose the Lung Cancer dataset used in the paper Lee et al. (2010). The dataset contains 12625 rows and 56 columns, representing gene expressions and subjects, respectively. Notice from the heatmap below that the raw gene data appear to be unorganized. Our expected outcome of applying our SSVD algorithm to this dataset is to find clusters in the gene subjects."
   ]
  },
  {
   "cell_type": "code",
   "execution_count": 6,
   "metadata": {},
   "outputs": [
    {
     "data": {
      "image/png": "[encoded data removed]",
      "text/plain": [
       "<Figure size 432x288 with 2 Axes>"
      ]
     },
     "metadata": {
      "needs_background": "light"
     },
     "output_type": "display_data"
    }
   ],
   "source": [
    "Lung_Cancer_data = np.loadtxt('./data/LungCancerData.txt')\n",
    "X_Lung = Lung_Cancer_data.T\n",
    "\n",
    "sns.heatmap(X_Lung, vmin=-1, vmax=1, cmap = 'RdBu')\n",
    "pass"
   ]
  },
  {
   "cell_type": "code",
   "execution_count": null,
   "metadata": {},
   "outputs": [],
   "source": [
    "result_Lung = SSVD_single(X_Lung)\n",
    "u, s, v, i = result_Lung"
   ]
  },
  {
   "cell_type": "markdown",
   "metadata": {},
   "source": [
    "As suggested in Lee et al. (2010), we unselected 5000 genes in the white area. Then we rescaled the data to a $[-1, 1]$ interval for better visualization. "
   ]
  },
  {
   "cell_type": "code",
   "execution_count": null,
   "metadata": {},
   "outputs": [],
   "source": [
    "Lung_SSVD = s * u.reshape((-1, 1)) @ np.sort(np.abs(v))[5000:].reshape((1, -1))\n",
    "sns.heatmap(Lung_SSVD, vmin=-1, vmax=1, cmap = 'RdBu')\n",
    "pass"
   ]
  },
  {
   "cell_type": "markdown",
   "metadata": {},
   "source": [
    "Note that the original gene data has four subjects. In other words, the genes are supposed to be grouped in 4 clusters. In our plot, we can observe that our gene data are grouped in 4 clusters at subjects #20, #30 and #51. Thus, the rank-1 SSVD by our algorithm is indeed useful in this dataset. We then proceed to the second layer of SSVD. "
   ]
  },
  {
   "cell_type": "code",
   "execution_count": null,
   "metadata": {},
   "outputs": [],
   "source": [
    "result_Lung2 = SSVD(X_Lung - s * u.reshape((-1, 1)) @ v.reshape((1, -1)))\n",
    "u2, s2, v2, i2 = result_Lung2"
   ]
  },
  {
   "cell_type": "code",
   "execution_count": null,
   "metadata": {},
   "outputs": [],
   "source": [
    "Lung_SSVD2 = s2 * u2.reshape((-1, 1)) @ np.sort(np.abs(v2))[5000:].reshape((1, -1))\n",
    "sns.heatmap(Lung_SSVD2, vmin=-1, vmax=1, cmap = 'RdBu')\n",
    "pass"
   ]
  },
  {
   "cell_type": "markdown",
   "metadata": {},
   "source": [
    "In the heatmap of the second layer, we can notice that the number of genes used to cluster data is less than of from the first layer. Also, we can notice that the difference between the seond and the third cluster, though not very clear in the first layer, is obvious in this layer as they are different in signs. "
   ]
  },
  {
   "cell_type": "code",
   "execution_count": null,
   "metadata": {},
   "outputs": [],
   "source": [
    "result_Lung3 = SSVD(X_Lung - s * u.reshape((-1, 1)) @ v.reshape((1, -1)) -\n",
    "                     s2 * u2.reshape((-1, 1)) @ v2.reshape((1, -1)))\n",
    "u3, s3, v3, i3 = result_Lung3"
   ]
  },
  {
   "cell_type": "code",
   "execution_count": null,
   "metadata": {},
   "outputs": [],
   "source": [
    "Lung_SSVD3 = s3 * u3.reshape((-1, 1)) @ np.sort(np.abs(v3))[5000:].reshape((1, -1))\n",
    "sns.heatmap(Lung_SSVD3, vmin=-1, vmax=1, cmap = 'RdBu')\n",
    "pass"
   ]
  },
  {
   "cell_type": "markdown",
   "metadata": {},
   "source": [
    "At layer 3, we can notice that the number of genes used to cluster data is significantly less than that of the first two layers. We can also observe that in this layer, only the last group are being clearly clustered by our algorithm, while the first two groups are blur in our graph. \n",
    "\n",
    "Another dataset from other sources we want to use is used in a proof-of-concept study published in 1999 by Golub et al. Essentially, there are two underlying clusters in the gene data. Similarly, we want our SSVD algorithm to locate these two clusters. Below are a snapshot of our data, and a heatmap of the raw data before clustering. "
   ]
  },
  {
   "cell_type": "code",
   "execution_count": null,
   "metadata": {},
   "outputs": [],
   "source": [
    "gene_expr = pd.read_csv('./data/GolubGeneExpression.csv', sep=',', index_col=0, header=0)\n",
    "gene_expr.head()"
   ]
  },
  {
   "cell_type": "code",
   "execution_count": null,
   "metadata": {},
   "outputs": [],
   "source": [
    "x_gene = np.array(gene_expr)\n",
    "sns.heatmap(x_gene, vmin=-1, vmax=1, cmap = 'RdBu')\n",
    "pass"
   ]
  },
  {
   "cell_type": "code",
   "execution_count": null,
   "metadata": {},
   "outputs": [],
   "source": [
    "result_Gene = SSVD(x_gene)\n",
    "u, s, v, i = result_Gene"
   ]
  },
  {
   "cell_type": "code",
   "execution_count": null,
   "metadata": {},
   "outputs": [],
   "source": [
    "Gene_SSVD = s * u.reshape((-1, 1)) @ np.sort(np.abs(v)).reshape((1, -1))\n",
    "sns.heatmap(Gene_SSVD, vmin=-1, vmax=1, cmap = 'coolwarm')\n",
    "pass"
   ]
  },
  {
   "cell_type": "markdown",
   "metadata": {},
   "source": [
    "In the originial dataset, the first 27 genes and the last 8 genes belong to two different groups. In our heatmap, we can roughly see a clustering effect around gene #28, where the color underneath that has a warmer color. However, we should also notive that the warm color appears at other genes, indicating that the algorithm fails to correctly indentify those genes. "
   ]
  },
  {
   "cell_type": "markdown",
   "metadata": {},
   "source": [
    "## Comparative analysis with competing algorithms"
   ]
  },
  {
   "cell_type": "markdown",
   "metadata": {},
   "source": [
    "In the comparative analysis, we want to compare the bicluster performance in terms of accuracy between our SSVD algorithm and some similar models: the standard SVD method and the Sparse Principle Component Analysis (SPCA). The statistics we choose in the analysis are suggested by Lee et al. and are the same in the simulation section: number of zero entries, number of correctly specified zero entries, number of correctly specified nonzero entries and the misclasscification rate. "
   ]
  },
  {
   "cell_type": "code",
   "execution_count": null,
   "metadata": {},
   "outputs": [],
   "source": [
    "u_tilde = np.concatenate((np.arange(3, 11)[::-1],\n",
    "                      np.ones(17) * 2,\n",
    "                      np.zeros(75)))\n",
    "u = u_tilde / np.linalg.norm(u_tilde)\n",
    "v_tilde = np.concatenate((np.array([10, -10, 8, -8, 5, -5]), \n",
    "                          np.ones(5) * 3,\n",
    "                          np.ones(5) * (-3), \n",
    "                          np.zeros(34)))\n",
    "v = v_tilde / np.linalg.norm(v_tilde)\n",
    "s = 50\n",
    "x_sim = s * u.reshape((-1, 1)) @ v.reshape((1, -1)) \n"
   ]
  },
  {
   "cell_type": "code",
   "execution_count": null,
   "metadata": {},
   "outputs": [],
   "source": [
    "def num_zeros(approx): \n",
    "    \n",
    "    return np.sum(approx == 0)\n",
    "\n",
    "def num_crct_zeros(approx, orig):\n",
    "    \n",
    "    ind = np.where(approx == 0)\n",
    "    return np.sum(orig[ind] == 0)\n",
    "\n",
    "def num_crct_nzeros(approx, orig):\n",
    "    \n",
    "    ind = np.where(approx != 0)    \n",
    "    return np.sum(orig[ind] != 0)"
   ]
  },
  {
   "cell_type": "code",
   "execution_count": null,
   "metadata": {},
   "outputs": [],
   "source": [
    "def all_approx(M = 100):\n",
    "    \n",
    "    \n",
    "    u_tilde = np.concatenate((np.arange(3, 11)[::-1],\n",
    "                      np.ones(17) * 2,\n",
    "                      np.zeros(75)))\n",
    "    u = u_tilde / np.linalg.norm(u_tilde)\n",
    "    v_tilde = np.concatenate((np.array([10, -10, 8, -8, 5, -5]), \n",
    "                              np.ones(5) * 3,\n",
    "                              np.ones(5) * (-3), \n",
    "                              np.zeros(34)))\n",
    "    v = v_tilde / np.linalg.norm(v_tilde)\n",
    "    s = 50\n",
    "    x_sim = s * u.reshape((-1, 1)) @ v.reshape((1, -1)) \n",
    "    \n",
    "    zeros = np.zeros((M, 6))\n",
    "    crct_zeros = np.zeros((M, 6))\n",
    "    crct_nzeros = np.zeros((M, 6))\n",
    "    n_all = np.concatenate((np.ones(3) * 100, np.ones(3) * 50))\n",
    "    \n",
    "    for i in range(M):\n",
    "        noise = np.random.normal(size = x_sim.shape)\n",
    "        ssvd_u, ssvd_s, ssvd_v, ssvd_i = SSVD(x_sim + noise)\n",
    "        svd_u, svd_s, svd_v = la.svd(x_sim + noise)\n",
    "        svd_u = svd_u[:, 0]\n",
    "        svd_v = svd_v[0, :]\n",
    "        spca_model = SparsePCA(n_components=1)\n",
    "        spca_model.fit(x_sim + noise)\n",
    "        spca_v = spca_model.components_[0]\n",
    "        spca_model.fit((x_sim + noise).T)\n",
    "        spca_u = spca_model.components_[0]\n",
    "        \n",
    "        list_of_approx_u = [ssvd_u, svd_u, spca_u]\n",
    "        list_of_approx_v = [ssvd_v, svd_v, spca_v]\n",
    "        \n",
    "        zeros[i, :] = np.array(list(map(num_zeros, list_of_approx_u + list_of_approx_v)))\n",
    "        crct_zeros[i, :] = np.array(list(map(num_crct_zeros, list_of_approx_u, [u] * 3)) + \n",
    "                                       list(map(num_crct_zeros, list_of_approx_v, [v] * 3)))\n",
    "        crct_nzeros[i, :] = np.array(list(map(num_crct_nzeros, list_of_approx_u, [u] * 3)) + \n",
    "                                       list(map(num_crct_nzeros, list_of_approx_v, [v] * 3)))\n",
    " \n",
    "\n",
    "    return np.array([np.mean(zeros, axis = 0), \n",
    "                   np.mean(crct_zeros, axis = 0), \n",
    "                   np.mean(crct_zeros, axis = 0) / np.mean(zeros, axis = 0), \n",
    "                   np.mean(crct_nzeros, axis = 0), \n",
    "                   np.mean(crct_nzeros, axis = 0) / (n_all - np.mean(zeros, axis = 0)), \n",
    "                   ((np.mean(zeros, axis = 0) - np.mean(crct_zeros, axis = 0)) +\n",
    "                    (n_all - np.mean(zeros, axis = 0) - np.mean(crct_nzeros, axis = 0))) / n_all\n",
    "                    ])\n"
   ]
  },
  {
   "cell_type": "code",
   "execution_count": null,
   "metadata": {},
   "outputs": [],
   "source": [
    "result = all_approx()\n",
    "result"
   ]
  },
  {
   "cell_type": "markdown",
   "metadata": {},
   "source": [
    "## Discussion/conclusion"
   ]
  },
  {
   "cell_type": "markdown",
   "metadata": {},
   "source": [
    "## Reference"
   ]
  },
  {
   "cell_type": "markdown",
   "metadata": {},
   "source": [
    "Lee, M., Shen, H., Huang, J., and Marron, J. (2010). Biclustering via sparse singular value decomposition. Biometrics 66, 1087-1095.\n",
    "\n",
    "Zou, H. (2006). The adaptive lasso and its oracle properties. Journal of the American Statistical Association 101, 1418-1429."
   ]
  }
 ],
 "metadata": {
  "kernelspec": {
   "display_name": "Python 3",
   "language": "python",
   "name": "python3"
  },
  "language_info": {
   "codemirror_mode": {
    "name": "ipython",
    "version": 3
   },
   "file_extension": ".py",
   "mimetype": "text/x-python",
   "name": "python",
   "nbconvert_exporter": "python",
   "pygments_lexer": "ipython3",
   "version": "3.9.1"
  }
 },
 "nbformat": 4,
 "nbformat_minor": 2
}
