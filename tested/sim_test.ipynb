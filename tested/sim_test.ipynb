{
 "cells": [
  {
   "cell_type": "code",
   "execution_count": null,
   "metadata": {},
   "outputs": [],
   "source": [
    "def rank1_approx(M = 100):\n",
    "    \"\"\"Carry out a rank-1 approximation simulation study\"\"\"\n",
    "    \n",
    "    u_tilde = np.concatenate((np.arange(3, 11)[::-1],\n",
    "                          np.ones(17) * 2,\n",
    "                          np.zeros(75)))\n",
    "    u = u_tilde / np.linalg.norm(u_tilde)\n",
    "    v_tilde = np.concatenate((np.array([10, -10, 8, -8, 5, -5]), \n",
    "                              np.ones(5) * 3,\n",
    "                              np.ones(5) * (-3), \n",
    "                              np.zeros(34)))\n",
    "    v = v_tilde / np.linalg.norm(v_tilde)\n",
    "    s = 50\n",
    "    x_sim_rank1 = s * u.reshape((-1, 1)) @ v.reshape((1, -1)) \n",
    "    \n",
    "    v_nonzero_ind = np.where(v != 0)\n",
    "    v_zero_ind = np.where(v == 0)\n",
    "    u_nonzero_ind = np.where(u != 0)\n",
    "    u_zero_ind = np.where(u == 0)\n",
    "    \n",
    "    v_zeros = np.zeros(M)\n",
    "    v_true_zeros = np.zeros(M)\n",
    "    v_true_nonzeros = np.zeros(M)\n",
    "    \n",
    "    u_zeros = np.zeros(M)\n",
    "    u_true_zeros = np.zeros(M)\n",
    "    u_true_nonzeros = np.zeros(M)\n",
    "    \n",
    "    \n",
    "    for i in range(M):\n",
    "        noise = np.random.normal(size = (x_sim_rank1.shape))\n",
    "        u_appr, v_appr, iters = SSVD(x_sim_rank1 + noise)\n",
    "        v_zeros[i] = np.sum(v_appr == 0)\n",
    "        u_zeros[i] = np.sum(u_appr == 0)\n",
    "        v_true_zeros[i] = np.sum(v_appr[v_zero_ind] == 0)\n",
    "        u_true_zeros[i] = np.sum(u_appr[u_zero_ind] == 0)\n",
    "        v_true_nonzeros[i] = np.sum(v_appr[v_nonzero_ind] != 0)\n",
    "        u_true_nonzeros[i] = np.sum(u_appr[u_nonzero_ind] != 0)\n",
    "        \n",
    "    return np.array([v_zeros, v_true_zeros, v_true_nonzeros, u_zeros, u_true_zeros, u_true_nonzeros])\n",
    "\n",
    "\n",
    "result = rank1_approx()\n",
    "result = np.mean(result, axis = 1)"
   ]
  },
  {
   "cell_type": "code",
   "execution_count": null,
   "metadata": {},
   "outputs": [],
   "source": [
    "A = np.random.poisson(1, (15,20)) * np.random.randint(0, 10, (15,20))\n",
    "pd.DataFrame(A).head()"
   ]
  }
 ],
 "metadata": {
  "kernelspec": {
   "display_name": "Python 3",
   "language": "python",
   "name": "python3"
  },
  "language_info": {
   "codemirror_mode": {
    "name": "ipython",
    "version": 3
   },
   "file_extension": ".py",
   "mimetype": "text/x-python",
   "name": "python",
   "nbconvert_exporter": "python",
   "pygments_lexer": "ipython3",
   "version": "3.6.10"
  }
 },
 "nbformat": 4,
 "nbformat_minor": 2
}
